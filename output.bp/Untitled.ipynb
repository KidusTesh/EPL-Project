{
 "cells": [
  {
   "cell_type": "code",
   "execution_count": 1,
   "id": "6606fea5-ca1b-4d7b-b91e-8ff14be22caf",
   "metadata": {},
   "outputs": [],
   "source": [
    "from mpi4py import MPI\n",
    "import numpy as np\n",
    "from dolfinx import mesh\n",
    "\n",
    "domain = mesh.create_unit_square(MPI.COMM_WORLD, 10, 10)\n",
    "\n",
    "# Define the functional space\n",
    "gdim = domain.topology.dim\n",
    "\n",
    "from dolfinx import fem\n",
    "from dolfinx.fem import Function, FunctionSpace, dirichletbc, locate_dofs_topological, form\n",
    "import ufl\n",
    "from ufl import grad, div, nabla_grad, dx, inner, dot\n",
    "\n",
    "Vel = ufl.VectorElement(\"Lagrange\", domain.ufl_cell(), 2)\n",
    "Pa = ufl.FiniteElement(\"Lagrange\", domain.ufl_cell(), 1)\n",
    "V, Q = FunctionSpace(domain, Vel), FunctionSpace(domain, Pa)"
   ]
  },
  {
   "cell_type": "code",
   "execution_count": null,
   "id": "59c75f28-3a5a-40dd-b12a-f1732b28585c",
   "metadata": {},
   "outputs": [],
   "source": [
    "import dolfinx\n",
    "\n",
    "fdim = gdim - 1\n",
    "\n",
    "inlet_marker  = 10 \n",
    "walls_marker  = 20\n",
    "#outlet_marker = 30\n",
    "\n",
    "boundaries = [(inlet_marker,  lambda x: np.isclose(x[0], 0.)),\n",
    "              (walls_marker,  lambda x: np.isclose(x[1], -R)),\n",
    "              (walls_marker,  lambda x: np.isclose(x[1],  R)),\n",
    "              (outlet_marker, lambda x: np.isclose(x[0], length))]\n",
    "\n",
    "facet_indices, facet_markers = [], []\n",
    "for (marker, locator) in boundaries:\n",
    "    facets = dolfinx.mesh.locate_entities(domain, fdim, locator)\n",
    "    facet_indices.append(facets)\n",
    "    facet_markers.append(np.full(len(facets), marker))\n",
    "facet_indices = np.array(np.hstack(facet_indices), dtype=np.int32)\n",
    "facet_markers = np.array(np.hstack(facet_markers), dtype=np.int32)\n",
    "sorted_facets = np.argsort(facet_indices)\n",
    "ft = dolfinx.mesh.meshtags(domain, fdim, facet_indices[sorted_facets], facet_markers[sorted_facets])\n"
   ]
  }
 ],
 "metadata": {
  "kernelspec": {
   "display_name": "Python 3 (ipykernel)",
   "language": "python",
   "name": "python3"
  },
  "language_info": {
   "codemirror_mode": {
    "name": "ipython",
    "version": 3
   },
   "file_extension": ".py",
   "mimetype": "text/x-python",
   "name": "python",
   "nbconvert_exporter": "python",
   "pygments_lexer": "ipython3",
   "version": "3.10.11"
  }
 },
 "nbformat": 4,
 "nbformat_minor": 5
}
