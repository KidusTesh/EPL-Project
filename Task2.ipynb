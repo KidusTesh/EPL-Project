{
 "cells": [
  {
   "cell_type": "code",
   "execution_count": 64,
   "id": "d115fe0c-62c5-49fc-8195-20369274bf38",
   "metadata": {},
   "outputs": [
    {
     "name": "stdout",
     "output_type": "stream",
     "text": [
      "DOLFINx version: 0.6.0 based on GIT commit:  of https://github.com/FEniCS/dolfinx/\n"
     ]
    }
   ],
   "source": [
    "import dolfinx\n",
    "print(f\"DOLFINx version: {dolfinx.__version__} based on GIT commit: {dolfinx.git_commit_hash} of https://github.com/FEniCS/dolfinx/\")"
   ]
  },
  {
   "cell_type": "code",
   "execution_count": 80,
   "id": "220ddf5c-bc5d-4329-bf4c-6773c2967fe9",
   "metadata": {},
   "outputs": [],
   "source": [
    "from mpi4py import MPI\n",
    "import numpy as np\n",
    "from dolfinx import mesh, io\n",
    "from dolfinx.fem import Function, FunctionSpace, dirichletbc, locate_dofs_topological, form\n",
    "import ufl\n",
    "from ufl import grad, div, nabla_grad, dx, inner, dot, Measure, SpatialCoordinate, TestFunctions, TrialFunctions, div, exp, inner\n",
    "\n",
    "domain = mesh.create_unit_square(MPI.COMM_WORLD, 10, 10)\n",
    "\n",
    "P2 = ufl.VectorElement(\"Lagrange\", domain.ufl_cell(), 2)\n",
    "P1 = ufl.FiniteElement(\"Lagrange\", domain.ufl_cell(), 1)\n",
    "TH = P2 * P1\n",
    "V = FunctionSpace(domain, TH)\n",
    "(v_a, p_a) = TrialFunctions(V)\n",
    "(v_t, p_t) = TestFunctions(V)\n",
    "\n",
    "x = SpatialCoordinate(domain)\n",
    "U = 1.0\n",
    "\n"
   ]
  },
  {
   "cell_type": "code",
   "execution_count": 81,
   "id": "c51c6942-2e52-478c-b638-688009c6ae54",
   "metadata": {},
   "outputs": [],
   "source": [
    "tdim = domain.topology.dim\n",
    "fdim = tdim - 1\n",
    "domain.topology.create_connectivity(fdim, tdim)\n",
    "boundary_facets = mesh.exterior_facet_indices(domain.topology)\n"
   ]
  },
  {
   "cell_type": "code",
   "execution_count": 87,
   "id": "24dd37ba-f02c-4ebc-96f7-97256b8da48d",
   "metadata": {},
   "outputs": [],
   "source": [
    "def u_exact(x):\n",
    "    x_array = np.array(x[0])\n",
    "    y_array = np.array(x[1])\n",
    "    \n",
    "    theta = np.arctan2(x_array, y_array)\n",
    "    radius = (x[0]**2 + x[1]**2)**0.5\n",
    "    Ue = -U\n",
    "    theta0 = 0.5*np.pi\n",
    "    f = Ue*(-theta0**2*np.sin(theta) + theta0*theta*np.sin(theta) \\\n",
    "           - np.sin(theta0)*np.cos(theta0)*theta*np.sin(theta) \\\n",
    "           + np.sin(theta0)**2*theta*np.cos(theta)) \\\n",
    "           /(theta0**2 - np.sin(theta0)**2)\n",
    "    \n",
    "    dfdt = Ue*(-theta0**2*np.cos(theta) + theta0*np.sin(theta) \\\n",
    "              + theta0*theta*np.cos(theta) - np.sin(theta0)*np.cos(theta0)*np.sin(theta) \\\n",
    "              - np.sin(theta0)*np.cos(theta0)*theta*np.cos(theta) \\\n",
    "              + np.sin(theta0)**2*np.cos(theta) - np.sin(theta0)**2*theta*np.sin(theta)) \\\n",
    "           /(theta0**2 - np.sin(theta0)**2)\n",
    "    psie = radius*f\n",
    "    vre = dfdt\n",
    "    vte = -f\n",
    "    ve = np.array([vre*np.cos(theta) - vte*np.sin(theta),\n",
    "                   vre*np.sin(theta) + vte*np.cos(theta)])\n",
    "    \n",
    "    return ve\n"
   ]
  },
  {
   "cell_type": "code",
   "execution_count": 85,
   "id": "1fc7dace-b66f-44a1-be2a-7a406a85d384",
   "metadata": {},
   "outputs": [
    {
     "ename": "AttributeError",
     "evalue": "'Indexed' object has no attribute 'arctan2'",
     "output_type": "error",
     "traceback": [
      "\u001b[0;31m---------------------------------------------------------------------------\u001b[0m",
      "\u001b[0;31mAttributeError\u001b[0m                            Traceback (most recent call last)",
      "Cell \u001b[0;32mIn[85], line 1\u001b[0m\n\u001b[0;32m----> 1\u001b[0m ve \u001b[38;5;241m=\u001b[39m \u001b[43mu_exact\u001b[49m\u001b[43m(\u001b[49m\u001b[43mx\u001b[49m\u001b[43m)\u001b[49m\n",
      "Cell \u001b[0;32mIn[82], line 5\u001b[0m, in \u001b[0;36mu_exact\u001b[0;34m(x)\u001b[0m\n\u001b[1;32m      2\u001b[0m x_array \u001b[38;5;241m=\u001b[39m np\u001b[38;5;241m.\u001b[39marray(x[\u001b[38;5;241m0\u001b[39m])\n\u001b[1;32m      3\u001b[0m y_array \u001b[38;5;241m=\u001b[39m np\u001b[38;5;241m.\u001b[39marray(x[\u001b[38;5;241m1\u001b[39m])\n\u001b[0;32m----> 5\u001b[0m theta \u001b[38;5;241m=\u001b[39m \u001b[43mnp\u001b[49m\u001b[38;5;241;43m.\u001b[39;49m\u001b[43marctan2\u001b[49m\u001b[43m(\u001b[49m\u001b[43mx_array\u001b[49m\u001b[43m,\u001b[49m\u001b[43m \u001b[49m\u001b[43my_array\u001b[49m\u001b[43m)\u001b[49m\n\u001b[1;32m      6\u001b[0m radius \u001b[38;5;241m=\u001b[39m (x[\u001b[38;5;241m0\u001b[39m]\u001b[38;5;241m*\u001b[39m\u001b[38;5;241m*\u001b[39m\u001b[38;5;241m2\u001b[39m \u001b[38;5;241m+\u001b[39m x[\u001b[38;5;241m1\u001b[39m]\u001b[38;5;241m*\u001b[39m\u001b[38;5;241m*\u001b[39m\u001b[38;5;241m2\u001b[39m)\u001b[38;5;241m*\u001b[39m\u001b[38;5;241m*\u001b[39m\u001b[38;5;241m0.5\u001b[39m\n\u001b[1;32m      7\u001b[0m Ue \u001b[38;5;241m=\u001b[39m \u001b[38;5;241m-\u001b[39mU\n",
      "\u001b[0;31mAttributeError\u001b[0m: 'Indexed' object has no attribute 'arctan2'"
     ]
    }
   ],
   "source": [
    "ve = u_exact(x)"
   ]
  },
  {
   "cell_type": "code",
   "execution_count": 86,
   "id": "b4a7b1f1-3e3a-40aa-b736-1592c581b57d",
   "metadata": {},
   "outputs": [
    {
     "ename": "NameError",
     "evalue": "name 've' is not defined",
     "output_type": "error",
     "traceback": [
      "\u001b[0;31m---------------------------------------------------------------------------\u001b[0m",
      "\u001b[0;31mNameError\u001b[0m                                 Traceback (most recent call last)",
      "Cell \u001b[0;32mIn[86], line 2\u001b[0m\n\u001b[1;32m      1\u001b[0m u_bc \u001b[38;5;241m=\u001b[39m Function(V)\n\u001b[0;32m----> 2\u001b[0m u_bc\u001b[38;5;241m.\u001b[39minterpolate(\u001b[43mve\u001b[49m)\n\u001b[1;32m      3\u001b[0m bc_Bottom \u001b[38;5;241m=\u001b[39m dirichletbc(u_bc, dofs_BottomBoundary)\n\u001b[1;32m      4\u001b[0m bc_Side \u001b[38;5;241m=\u001b[39m dirichletbc(u)\n",
      "\u001b[0;31mNameError\u001b[0m: name 've' is not defined"
     ]
    }
   ],
   "source": [
    "u_bc = Function(V)\n",
    "u_bc.interpolate(ve)\n",
    "bc_Bottom = dirichletbc(u_bc, dofs_BottomBoundary)\n",
    "bc_Side = dirichletbc(u)\n",
    "bc_TopRight = dirichletbc(u_bc, dofs_TopRightBoundary)\n",
    "dofs_TopRightBoundary = locate_dofs_topological(V, TopRight, boundary_facets)\n",
    "dofs_SideBoundary = locate_dofs_topological(V, Left, boundary_facets)\n",
    "dofs_BottomBoundary = locate_dofs_topological(V, Bottom, boundary_facets)\n",
    "\n",
    "n = FacetNormal(mesh)\n",
    "\n",
    "K = inner(sym(grad(v_t)), sym(grad(v_a)))*dx \n",
    "G = -div(v_t)*p_a*dx\n",
    "D = -p_t*div(v_a)*dx\n",
    "S=K+G+D\n",
    "L = Constant(domain, ScalarType(0.0)) * v_t * dx\n",
    "\n",
    "#f = T_t*rhsf*dx + T_t*inner(gN, n)*ds\n",
    "problem = LinearProblem(S, L, bcs=[bc_Bottom, bc_Side, bc_TopRight], petsc_options={\"ksp_type\": \"preonly\", \"pc_type\": \"lu\"})\n",
    "u_i = problem.solve()\n",
    "\n"
   ]
  },
  {
   "cell_type": "code",
   "execution_count": null,
   "id": "67e9afe1-bce3-4e0d-9392-0cff6efa9072",
   "metadata": {},
   "outputs": [],
   "source": []
  },
  {
   "cell_type": "code",
   "execution_count": 63,
   "id": "80508fe4-d617-4cae-b1c1-a47be79bfaba",
   "metadata": {},
   "outputs": [
    {
     "name": "stdout",
     "output_type": "stream",
     "text": [
      "[0.31688851 3.59159876]\n"
     ]
    }
   ],
   "source": [
    "import numpy as np\n",
    "\n",
    "theta = 0.5  # Example angle in radians\n",
    "vre = 2  # Example vre value\n",
    "vte = 3  # Example vte value\n",
    "\n",
    "result = np.array([vre * np.cos(theta) - vte * np.sin(theta), vre * np.sin(theta) + vte * np.cos(theta)])\n",
    "print(result)"
   ]
  },
  {
   "cell_type": "code",
   "execution_count": null,
   "id": "89c31385-e43b-4b35-84db-371b60a2fe8e",
   "metadata": {},
   "outputs": [],
   "source": []
  },
  {
   "cell_type": "code",
   "execution_count": null,
   "id": "d4994d3d-41ea-4bdf-825b-2c37c060ba5b",
   "metadata": {},
   "outputs": [],
   "source": []
  },
  {
   "cell_type": "code",
   "execution_count": null,
   "id": "95ae013e-e298-49d7-bff0-adcc8ec0114e",
   "metadata": {},
   "outputs": [],
   "source": []
  },
  {
   "cell_type": "code",
   "execution_count": null,
   "id": "d945797d-2936-46b1-8ed0-fca092c9fa5f",
   "metadata": {},
   "outputs": [],
   "source": []
  },
  {
   "cell_type": "code",
   "execution_count": null,
   "id": "ca26bfec-294c-49de-8372-c417e8900733",
   "metadata": {},
   "outputs": [],
   "source": []
  },
  {
   "cell_type": "code",
   "execution_count": null,
   "id": "d6cea75b-2627-4b76-af47-1cc3e7c302f8",
   "metadata": {},
   "outputs": [],
   "source": []
  },
  {
   "cell_type": "code",
   "execution_count": null,
   "id": "c2203dc0-ec66-47c3-96d4-ffcab2ebc25a",
   "metadata": {},
   "outputs": [],
   "source": []
  }
 ],
 "metadata": {
  "kernelspec": {
   "display_name": "Python 3 (ipykernel)",
   "language": "python",
   "name": "python3"
  },
  "language_info": {
   "codemirror_mode": {
    "name": "ipython",
    "version": 3
   },
   "file_extension": ".py",
   "mimetype": "text/x-python",
   "name": "python",
   "nbconvert_exporter": "python",
   "pygments_lexer": "ipython3",
   "version": "3.10.12"
  }
 },
 "nbformat": 4,
 "nbformat_minor": 5
}
