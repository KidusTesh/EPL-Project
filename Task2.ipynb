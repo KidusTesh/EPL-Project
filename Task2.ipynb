{
 "cells": [
  {
   "cell_type": "code",
   "execution_count": 62,
   "id": "220ddf5c-bc5d-4329-bf4c-6773c2967fe9",
   "metadata": {},
   "outputs": [
    {
     "ename": "ImportError",
     "evalue": "cannot import name 'mixed_element' from 'ufl' (/Users/kteshome/anaconda3/envs/fenicsx-env/lib/python3.10/site-packages/ufl/__init__.py)",
     "output_type": "error",
     "traceback": [
      "\u001b[0;31m---------------------------------------------------------------------------\u001b[0m",
      "\u001b[0;31mImportError\u001b[0m                               Traceback (most recent call last)",
      "Cell \u001b[0;32mIn[62], line 2\u001b[0m\n\u001b[1;32m      1\u001b[0m \u001b[38;5;28;01mfrom\u001b[39;00m \u001b[38;5;21;01mmpi4py\u001b[39;00m \u001b[38;5;28;01mimport\u001b[39;00m MPI\n\u001b[0;32m----> 2\u001b[0m \u001b[38;5;28;01mfrom\u001b[39;00m \u001b[38;5;21;01mufl\u001b[39;00m \u001b[38;5;28;01mimport\u001b[39;00m mixed_element\n\u001b[1;32m      3\u001b[0m \u001b[38;5;28;01mimport\u001b[39;00m \u001b[38;5;21;01mnumpy\u001b[39;00m \u001b[38;5;28;01mas\u001b[39;00m \u001b[38;5;21;01mnp\u001b[39;00m\n\u001b[1;32m      4\u001b[0m \u001b[38;5;28;01mfrom\u001b[39;00m \u001b[38;5;21;01mdolfinx\u001b[39;00m \u001b[38;5;28;01mimport\u001b[39;00m mesh, io\n",
      "\u001b[0;31mImportError\u001b[0m: cannot import name 'mixed_element' from 'ufl' (/Users/kteshome/anaconda3/envs/fenicsx-env/lib/python3.10/site-packages/ufl/__init__.py)"
     ]
    }
   ],
   "source": [
    "from mpi4py import MPI\n",
    "from basix.ufl import mixed_element\n",
    "import numpy as np\n",
    "from dolfinx import mesh, io\n",
    "from dolfinx.fem import Function, FunctionSpace, dirichletbc, locate_dofs_topological, form\n",
    "import ufl\n",
    "from ufl import grad, div, nabla_grad, dx, inner, dot, Measure, SpatialCoordinate, TestFunctions, TrialFunctions, div, exp, inner\n",
    "\n",
    "domain = mesh.create_unit_square(MPI.COMM_WORLD, [np.array([0, 0]), np.array([1, 1])])\n",
    "\n",
    "v_el = ufl.VectorElement(\"CG\", domain.ufl_cell(), 2)\n",
    "p_el = ufl.FiniteElement(\"CG\", domain.ufl_cell(), 1)\n",
    "U = ufl.mixed_element[v_el, p_el]\n",
    "V = FunctionSpace(domain, U)\n",
    "\n",
    "(v_a, p_a) = TrialFunctions(V)\n",
    "(v_t, p_t) = TestFunctions(V)\n",
    "\n",
    "x = SpatialCoordinate(domain)\n",
    "\n",
    "\n"
   ]
  },
  {
   "cell_type": "code",
   "execution_count": null,
   "id": "fd1454d4-84af-484b-ac15-6a05eae4ae31",
   "metadata": {},
   "outputs": [],
   "source": [
    "def Left(x):\n",
    "        return np.isclose(x[0], 0) and (0 <= x[1] <= 1)\n",
    "def bottom(x):\n",
    "        return np.isclose(x[1], 0) and (0 <= x[0] <= 1)\n",
    "def Top(x):\n",
    "        return np.isclose(x[0], 1) and (0 <= x[1] <= 1)\n",
    "def Right(x):\n",
    "        return np.isclose(x[1], 1) and (0 <= x[0] <= 1)\n",
    "\n",
    "dofs_TopRightBoundary = locate_dofs_geometrical(V, Top, Right)\n",
    "dofs_SideBoundary = locate_dofs_geometrical(V, Left)\n",
    "dofs_BottomBoundary = locate_dofs_geometrical(V, Bottom)\n",
    "\n"
   ]
  },
  {
   "cell_type": "code",
   "execution_count": 63,
   "id": "6f948656-655f-49ac-bde7-0534fa61f4ae",
   "metadata": {},
   "outputs": [
    {
     "ename": "NameError",
     "evalue": "name 'boundary_top' is not defined",
     "output_type": "error",
     "traceback": [
      "\u001b[0;31m---------------------------------------------------------------------------\u001b[0m",
      "\u001b[0;31mNameError\u001b[0m                                 Traceback (most recent call last)",
      "Cell \u001b[0;32mIn[63], line 6\u001b[0m\n\u001b[1;32m      2\u001b[0m     \u001b[38;5;28;01mreturn\u001b[39;00m np\u001b[38;5;241m.\u001b[39misclose(x[\u001b[38;5;241m0\u001b[39m], \u001b[38;5;241m0\u001b[39m)\n\u001b[1;32m      5\u001b[0m fdim \u001b[38;5;241m=\u001b[39m domain\u001b[38;5;241m.\u001b[39mtopology\u001b[38;5;241m.\u001b[39mdim \u001b[38;5;241m-\u001b[39m \u001b[38;5;241m1\u001b[39m\n\u001b[0;32m----> 6\u001b[0m facets_top \u001b[38;5;241m=\u001b[39m mesh\u001b[38;5;241m.\u001b[39mlocate_entities_boundary(domain, fdim, \u001b[43mboundary_top\u001b[49m)\n\u001b[1;32m      7\u001b[0m Q, _ \u001b[38;5;241m=\u001b[39m V\u001b[38;5;241m.\u001b[39msub(\u001b[38;5;241m0\u001b[39m)\u001b[38;5;241m.\u001b[39mcollapse()\n\u001b[1;32m      8\u001b[0m dofs_top \u001b[38;5;241m=\u001b[39m fem\u001b[38;5;241m.\u001b[39mlocate_dofs_topological((V\u001b[38;5;241m.\u001b[39msub(\u001b[38;5;241m0\u001b[39m), Q), fdim, facets_top)\n",
      "\u001b[0;31mNameError\u001b[0m: name 'boundary_top' is not defined"
     ]
    }
   ],
   "source": [
    "\n",
    "def boundary_side(x):\n",
    "    return np.isclose(x[0], 0)\n",
    "\n",
    "\n",
    "fdim = domain.topology.dim - 1\n",
    "facets_side = mesh.locate_entities_boundary(domain, fdim, boundary_side)\n",
    "Q, _ = V.sub(0).collapse()\n",
    "dofs_top = fem.locate_dofs_topological((V.sub(0), Q), fdim, facets_side)\n",
    "\n",
    "\n",
    "def f1(x):\n",
    "    v = np.zeros((2, 2))\n",
    "    v = [[0, 0],\n",
    "         [0, 0]]\n",
    "    \n",
    "    return v\n",
    "\n",
    "\n",
    "f_h1 = fem.Function(Q)\n",
    "f_h1.interpolate(f1)\n",
    "bc_top = fem.dirichletbc(f_h1, dofs_top, V.sub(0))\n"
   ]
  },
  {
   "cell_type": "code",
   "execution_count": null,
   "id": "b4a7b1f1-3e3a-40aa-b736-1592c581b57d",
   "metadata": {},
   "outputs": [],
   "source": []
  }
 ],
 "metadata": {
  "kernelspec": {
   "display_name": "Python 3 (ipykernel)",
   "language": "python",
   "name": "python3"
  },
  "language_info": {
   "codemirror_mode": {
    "name": "ipython",
    "version": 3
   },
   "file_extension": ".py",
   "mimetype": "text/x-python",
   "name": "python",
   "nbconvert_exporter": "python",
   "pygments_lexer": "ipython3",
   "version": "3.10.11"
  }
 },
 "nbformat": 4,
 "nbformat_minor": 5
}
