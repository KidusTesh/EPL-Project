{
 "cells": [
  {
   "cell_type": "code",
   "execution_count": 75,
   "id": "220ddf5c-bc5d-4329-bf4c-6773c2967fe9",
   "metadata": {},
   "outputs": [
    {
     "ename": "ModuleNotFoundError",
     "evalue": "No module named 'basix.ufl'",
     "output_type": "error",
     "traceback": [
      "\u001b[0;31m---------------------------------------------------------------------------\u001b[0m",
      "\u001b[0;31mModuleNotFoundError\u001b[0m                       Traceback (most recent call last)",
      "Cell \u001b[0;32mIn[75], line 2\u001b[0m\n\u001b[1;32m      1\u001b[0m \u001b[38;5;28;01mfrom\u001b[39;00m \u001b[38;5;21;01mmpi4py\u001b[39;00m \u001b[38;5;28;01mimport\u001b[39;00m MPI\n\u001b[0;32m----> 2\u001b[0m \u001b[38;5;28;01mfrom\u001b[39;00m \u001b[38;5;21;01mbasix\u001b[39;00m\u001b[38;5;21;01m.\u001b[39;00m\u001b[38;5;21;01mufl\u001b[39;00m \u001b[38;5;28;01mimport\u001b[39;00m mixed_element\n\u001b[1;32m      3\u001b[0m \u001b[38;5;66;03m#import basix\u001b[39;00m\n\u001b[1;32m      4\u001b[0m \u001b[38;5;28;01mimport\u001b[39;00m \u001b[38;5;21;01mnumpy\u001b[39;00m \u001b[38;5;28;01mas\u001b[39;00m \u001b[38;5;21;01mnp\u001b[39;00m\n",
      "\u001b[0;31mModuleNotFoundError\u001b[0m: No module named 'basix.ufl'"
     ]
    }
   ],
   "source": [
    "from mpi4py import MPI\n",
    "from basix.ufl import mixed_element\n",
    "#import basix\n",
    "import numpy as np\n",
    "from dolfinx import mesh, io\n",
    "from dolfinx.fem import Function, FunctionSpace, dirichletbc, locate_dofs_topological, form\n",
    "import ufl\n",
    "from ufl import grad, div, nabla_grad, dx, inner, dot, Measure, SpatialCoordinate, TestFunctions, TrialFunctions, div, exp, inner\n",
    "\n",
    "domain = mesh.create_unit_square(MPI.COMM_WORLD, 10, 10)\n",
    "\n",
    "from basix.ufl import element, mixed_element\n",
    "P2 = element(\"Lagrange\", domain.basix_cell(), 2, rank=1)\n",
    "P1 = element(\"Lagrange\", domain.basix_cell(), 1)\n",
    "TH = mixed_element([P2, P1])\n",
    "V = FunctionSpace(domain, TH)\n",
    "(v_a, p_a) = TrialFunctions(V)\n",
    "(v_t, p_t) = TestFunctions(V)\n",
    "\n",
    "x = SpatialCoordinate(domain)\n",
    "\n",
    "\n"
   ]
  },
  {
   "cell_type": "code",
   "execution_count": null,
   "id": "24dd37ba-f02c-4ebc-96f7-97256b8da48d",
   "metadata": {},
   "outputs": [],
   "source": [
    "def Left(x):\n",
    "        return np.isclose(x[0], 0) and (0 <= x[1] <= 1)\n",
    "def bottom(x):\n",
    "        return np.isclose(x[1], 0) and (0 <= x[0] <= 1)\n",
    "def Top(x):\n",
    "        return np.isclose(x[0], 1) and (0 <= x[1] <= 1)\n",
    "def Right(x):\n",
    "        return np.isclose(x[1], 1) and (0 <= x[0] <= 1)\n",
    "\n",
    "dofs_TopRightBoundary = locate_dofs_geometrical(V, Top, Right)\n",
    "dofs_SideBoundary = locate_dofs_geometrical(V, Left)\n",
    "dofs_BottomBoundary = locate_dofs_geometrical(V, Bottom)\n",
    "\n",
    "def u_exact(x):\n",
    "    theta = atan_2(x[1], x[0])\n",
    "    radius = (x[0]**2 + x[1]**2)**0.5\n",
    "    Ue = -U\n",
    "    theta0 = 0.5*pi\n",
    "    f = Ue*(-theta0**2*sin(theta) + theta0*theta*sin(theta) \\\n",
    "           - sin(theta0)*cos(theta0)*theta*sin(theta) \\\n",
    "           + sin(theta0)**2*theta*cos(theta)) \\\n",
    "           /(theta0**2 - sin(theta0)**2)\n",
    "    dfdt = Ue*(-theta0**2*cos(theta) + theta0*sin(theta) \\\n",
    "              + theta0*theta*cos(theta) - sin(theta0)*cos(theta0)*sin(theta) \\\n",
    "              - sin(theta0)*cos(theta0)*theta*cos(theta) \\\n",
    "              + sin(theta0)**2*cos(theta) - sin(theta0)**2*theta*sin(theta)) \\\n",
    "           /(theta0**2 - sin(theta0)**2)\n",
    "    psie = radius*f\n",
    "    vre = dfdt\n",
    "    vte = -f\n",
    "    ve = as_vector([vre*cos(theta) - vte*sin(theta),\n",
    "                    vre*sin(theta) + vte*cos(theta)])\n",
    "    return \n",
    "u_bc = Function(V)\n",
    "u_bc.interpolate(u_exact)\n",
    "bc_TopRight = dirichletbc(u_bc, dofs_TopRightBoundary)\n",
    "bc_Side = dirichletbc(u)\n",
    "\n",
    "n = FacetNormal(mesh)\n",
    "\n",
    "K = inner(sym(grad(v_t)), sym(grad(v_a)))*dx \n",
    "G = -div(v_t)*p_a*dx\n",
    "D = -p_t*div(v_a)*dx\n",
    "S=K+G+D\n",
    "L = Constant(domain, ScalarType(0.0)) * v_t * dx\n",
    "\n",
    "#f = T_t*rhsf*dx + T_t*inner(gN, n)*ds\n",
    "problem = LinearProblem(S, L, bcs=[bc], petsc_options={\"ksp_type\": \"preonly\", \"pc_type\": \"lu\"})\n",
    "u_i = problem.solve()\n",
    "\n"
   ]
  },
  {
   "cell_type": "code",
   "execution_count": null,
   "id": "b4a7b1f1-3e3a-40aa-b736-1592c581b57d",
   "metadata": {},
   "outputs": [],
   "source": []
  }
 ],
 "metadata": {
  "kernelspec": {
   "display_name": "Python 3 (ipykernel)",
   "language": "python",
   "name": "python3"
  },
  "language_info": {
   "codemirror_mode": {
    "name": "ipython",
    "version": 3
   },
   "file_extension": ".py",
   "mimetype": "text/x-python",
   "name": "python",
   "nbconvert_exporter": "python",
   "pygments_lexer": "ipython3",
   "version": "3.10.11"
  }
 },
 "nbformat": 4,
 "nbformat_minor": 5
}
